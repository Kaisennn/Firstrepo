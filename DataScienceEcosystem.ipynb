{
 "cells": [
  {
   "cell_type": "markdown",
   "id": "bf360e03",
   "metadata": {},
   "source": [
    "# Data Science Tools and Ecosystem "
   ]
  },
  {
   "cell_type": "markdown",
   "id": "1a1e518c",
   "metadata": {},
   "source": [
    "In this notebook, Data Science Tools and Ecosystem are summarized."
   ]
  },
  {
   "cell_type": "markdown",
   "id": "05627700",
   "metadata": {},
   "source": [
    "Some of the popular languages that Data Scientists use are:"
   ]
  },
  {
   "cell_type": "code",
   "execution_count": 2,
   "id": "df48c211",
   "metadata": {},
   "outputs": [],
   "source": [
    "ordered_list = ['python','R','Julia','Java']"
   ]
  },
  {
   "cell_type": "markdown",
   "id": "8edda762",
   "metadata": {},
   "source": [
    "Some of the commonly used libraries used by Data Scientists include:"
   ]
  },
  {
   "cell_type": "code",
   "execution_count": 1,
   "id": "40eecc00",
   "metadata": {},
   "outputs": [],
   "source": [
    "ordered_list = ['pandas','numpy','matplotlib','seaborn','scikit-learn']"
   ]
  },
  {
   "cell_type": "markdown",
   "id": "a74af0df",
   "metadata": {},
   "source": [
    "| Data Science Tools  |\n",
    "| ------------------- |\n",
    "| R Studio            |\n",
    "| Python              |\n",
    "| Jupyter Notebook    |\n",
    "| Github              |"
   ]
  },
  {
   "cell_type": "markdown",
   "id": "ab9eff9e",
   "metadata": {},
   "source": [
    "### Below are a few examples of evaluating arithmetic expressions in Python.\n"
   ]
  },
  {
   "cell_type": "code",
   "execution_count": 3,
   "id": "ab0594eb",
   "metadata": {},
   "outputs": [
    {
     "data": {
      "text/plain": [
       "17"
      ]
     },
     "execution_count": 3,
     "metadata": {},
     "output_type": "execute_result"
    }
   ],
   "source": [
    "#This a simple arithmetic expression to mutiply then add integers\n",
    "(3*4)+5"
   ]
  },
  {
   "cell_type": "code",
   "execution_count": 5,
   "id": "8c3a0558",
   "metadata": {},
   "outputs": [
    {
     "data": {
      "text/plain": [
       "3.3333333333333335"
      ]
     },
     "execution_count": 5,
     "metadata": {},
     "output_type": "execute_result"
    }
   ],
   "source": [
    "minutes = 200\n",
    "hour = minutes/60 #This will convert 200 minutes to hours by diving by 60\n",
    "hour"
   ]
  },
  {
   "cell_type": "markdown",
   "id": "9e23b44b",
   "metadata": {},
   "source": [
    "**Objectives:**\n",
    "\n",
    "- List popular languages for Data Science.\n",
    "- Understand the basics of version control and Git.\n",
    "- Learn how to create headings and tables in Markdown.\n",
    "- Explore Jupyter Notebook for data analysis.\n",
    "- Familiarize with key concepts in data science.\n"
   ]
  },
  {
   "cell_type": "markdown",
   "id": "6d92a1f1",
   "metadata": {},
   "source": [
    "## Author: Derrick Vericho"
   ]
  }
 ],
 "metadata": {
  "kernelspec": {
   "display_name": "Python 3 (ipykernel)",
   "language": "python",
   "name": "python3"
  },
  "language_info": {
   "codemirror_mode": {
    "name": "ipython",
    "version": 3
   },
   "file_extension": ".py",
   "mimetype": "text/x-python",
   "name": "python",
   "nbconvert_exporter": "python",
   "pygments_lexer": "ipython3",
   "version": "3.9.12"
  }
 },
 "nbformat": 4,
 "nbformat_minor": 5
}
